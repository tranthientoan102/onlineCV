{
 "cells": [
  {
   "cell_type": "code",
   "execution_count": 178,
   "metadata": {
    "ExecuteTime": {
     "end_time": "2021-04-30T13:03:41.008993Z",
     "start_time": "2021-04-30T13:03:40.879463Z"
    }
   },
   "outputs": [],
   "source": [
    "import os\n",
    "import sys\n",
    "import numpy as np\n",
    "\n",
    "import logging\n",
    "import sys\n",
    "from datetime import datetime\n",
    "import time\n",
    "\n",
    "from multiprocessing import Pool\n",
    "\n"
   ]
  },
  {
   "cell_type": "code",
   "execution_count": 179,
   "metadata": {
    "ExecuteTime": {
     "end_time": "2021-04-30T13:03:41.015109Z",
     "start_time": "2021-04-30T13:03:41.011280Z"
    }
   },
   "outputs": [],
   "source": [
    "enableDebugLog = False\n",
    "enableResultLog = True"
   ]
  },
  {
   "cell_type": "code",
   "execution_count": 180,
   "metadata": {
    "ExecuteTime": {
     "end_time": "2021-04-30T13:03:41.022981Z",
     "start_time": "2021-04-30T13:03:41.018068Z"
    }
   },
   "outputs": [],
   "source": [
    "\n",
    "def createDirectory(path):\n",
    "    path = path.split(os.sep)\n",
    "    currentDir = '.'\n",
    "    for i in path:\n",
    "        currentDir += os.sep + i\n",
    "        try:\n",
    "            os.mkdir(currentDir)\n",
    "        except:\n",
    "            continue\n"
   ]
  },
  {
   "cell_type": "code",
   "execution_count": 181,
   "metadata": {
    "ExecuteTime": {
     "end_time": "2021-04-30T13:03:41.031095Z",
     "start_time": "2021-04-30T13:03:41.025933Z"
    }
   },
   "outputs": [],
   "source": [
    "def createOrAppendFile(filePath, clean = False):\n",
    "    mode = ''\n",
    "    if os.path.isfile(filePath):\n",
    "        if clean: mode = 'w'\n",
    "        else: mode = 'a'\n",
    "    else: mode = 'x'\n",
    "    return open(filePath, mode)\n",
    "        # file.close()\n"
   ]
  },
  {
   "cell_type": "code",
   "execution_count": 182,
   "metadata": {
    "ExecuteTime": {
     "end_time": "2021-04-30T13:40:55.932389Z",
     "start_time": "2021-04-30T13:40:55.925446Z"
    }
   },
   "outputs": [
    {
     "data": {
      "text/plain": [
       "'20-27'"
      ]
     },
     "execution_count": 182,
     "metadata": {},
     "output_type": "execute_result"
    }
   ],
   "source": [
    "\n",
    "logDir = './log/' + datetime.today().strftime('%Y-%m-%d')\n",
    "logFileName = datetime.today().strftime('%H-%M')\n",
    "logFilePath = f'{logDir}/{logFileName}.log'\n",
    "createDirectory(logDir)\n",
    "fileHandler = createOrAppendFile(logFilePath)\n",
    "\n",
    "logFileName\n"
   ]
  },
  {
   "cell_type": "code",
   "execution_count": 183,
   "metadata": {
    "ExecuteTime": {
     "end_time": "2021-04-30T13:03:41.061253Z",
     "start_time": "2021-04-30T13:03:41.056156Z"
    },
    "pycharm": {
     "name": "#%%\n"
    }
   },
   "outputs": [],
   "source": [
    "def writeToFile(msg, enable, handler=fileHandler):\n",
    "    if enable:\n",
    "        handler.write(f'\\n{msg}')\n",
    "        handler.flush()\n",
    "def printDetail(msg, obj):\n",
    "    print(f'{msg}: {obj}')\n"
   ]
  },
  {
   "cell_type": "code",
   "execution_count": 184,
   "metadata": {
    "ExecuteTime": {
     "end_time": "2021-04-30T13:03:41.067087Z",
     "start_time": "2021-04-30T13:03:41.063721Z"
    }
   },
   "outputs": [],
   "source": [
    "writeToFile('==================\\n\\n\\nstart logging', enableDebugLog)\n"
   ]
  },
  {
   "cell_type": "code",
   "execution_count": 185,
   "metadata": {
    "ExecuteTime": {
     "end_time": "2021-04-30T13:03:41.077864Z",
     "start_time": "2021-04-30T13:03:41.072592Z"
    }
   },
   "outputs": [],
   "source": [
    "network = {}\n",
    "allNode = set()\n"
   ]
  },
  {
   "cell_type": "code",
   "execution_count": 186,
   "metadata": {
    "ExecuteTime": {
     "end_time": "2021-04-30T13:03:46.281570Z",
     "start_time": "2021-04-30T13:03:41.081603Z"
    },
    "pycharm": {
     "name": "#%%\n"
    }
   },
   "outputs": [
    {
     "name": "stdout",
     "output_type": "stream",
     "text": [
      "fail to parse data:\n",
      " \n",
      "\n"
     ]
    }
   ],
   "source": [
    "##################################################\n",
    "# Build new strictly increasing Ids\n",
    "##################################################\n",
    "edgeCounting = 0\n",
    "with open(\"./web-Google.txt\") as infile:\n",
    "    for line in infile:\n",
    "        if line.startswith('#'):\n",
    "            continue\n",
    "\n",
    "        line = line.strip('\\\\s')\n",
    "        try:\n",
    "            webId, linkedTo = line.split()\n",
    "        except:\n",
    "            print(f'fail to parse data:\\n {line}')\n",
    "            continue\n",
    "        webId = int(webId)\n",
    "        linkedTo = int(linkedTo)\n",
    "        allNode.add(webId)\n",
    "        allNode.add(linkedTo)\n",
    "\n",
    "        edgeCounting +=1\n",
    "        \n",
    "        # if webId not in network:\n",
    "        #     network[webId] = [linkedTo]\n",
    "        # else:\n",
    "        #     network[webId].append(linkedTo)\n",
    "infile.close()\n"
   ]
  },
  {
   "cell_type": "code",
   "execution_count": 187,
   "metadata": {
    "ExecuteTime": {
     "end_time": "2021-04-30T13:03:46.285711Z",
     "start_time": "2021-04-30T13:03:46.282534Z"
    }
   },
   "outputs": [
    {
     "data": {
      "text/plain": [
       "7"
      ]
     },
     "execution_count": 187,
     "metadata": {},
     "output_type": "execute_result"
    }
   ],
   "source": [
    "edgeCounting\n"
   ]
  },
  {
   "cell_type": "code",
   "execution_count": 188,
   "metadata": {
    "ExecuteTime": {
     "end_time": "2021-04-30T13:03:46.367428Z",
     "start_time": "2021-04-30T13:03:46.287170Z"
    },
    "pycharm": {
     "name": "#%%\n"
    }
   },
   "outputs": [],
   "source": [
    "allNode = sorted(allNode)\n"
   ]
  },
  {
   "cell_type": "code",
   "execution_count": 189,
   "metadata": {
    "ExecuteTime": {
     "end_time": "2021-04-30T13:03:46.376237Z",
     "start_time": "2021-04-30T13:03:46.370042Z"
    }
   },
   "outputs": [
    {
     "data": {
      "text/plain": [
       "4"
      ]
     },
     "execution_count": 189,
     "metadata": {},
     "output_type": "execute_result"
    }
   ],
   "source": [
    "len(allNode)\n"
   ]
  },
  {
   "cell_type": "code",
   "execution_count": 190,
   "metadata": {
    "ExecuteTime": {
     "end_time": "2021-04-30T13:03:46.387365Z",
     "start_time": "2021-04-30T13:03:46.380666Z"
    }
   },
   "outputs": [
    {
     "name": "stdout",
     "output_type": "stream",
     "text": [
      "network's last node: 3\n",
      "network's length: 4\n",
      "dif: -33.33%\n"
     ]
    }
   ],
   "source": [
    "printDetail('network\\'s last node', allNode[-1])\n",
    "printDetail('network\\'s length', len(allNode))\n",
    "dif = '%.2f' % ((allNode[-1] - len(allNode))/allNode[-1]*100)\n",
    "printDetail('dif', dif + '%')\n"
   ]
  },
  {
   "cell_type": "code",
   "execution_count": 191,
   "metadata": {
    "ExecuteTime": {
     "end_time": "2021-04-30T13:03:46.772237Z",
     "start_time": "2021-04-30T13:03:46.390160Z"
    }
   },
   "outputs": [],
   "source": [
    "# key: old index, value: new index\n",
    "nodeReIndex = {}\n",
    "i = 0\n",
    "for value in allNode:\n",
    "    nodeReIndex[value] = i\n",
    "    i+=1\n",
    "    "
   ]
  },
  {
   "cell_type": "code",
   "execution_count": 192,
   "metadata": {
    "ExecuteTime": {
     "end_time": "2021-04-30T13:03:46.781396Z",
     "start_time": "2021-04-30T13:03:46.775091Z"
    }
   },
   "outputs": [],
   "source": [
    "# nodeReIndex[916425]\n"
   ]
  },
  {
   "cell_type": "code",
   "execution_count": 193,
   "metadata": {
    "ExecuteTime": {
     "end_time": "2021-04-30T13:03:46.846096Z",
     "start_time": "2021-04-30T13:03:46.784579Z"
    },
    "pycharm": {
     "name": "#%%\n"
    }
   },
   "outputs": [],
   "source": [
    "##################################################\n",
    "# Lookup new Id based on old Id\n",
    "##################################################\n",
    "def convertSingleIdToNewIndex(id, newIndex):\n",
    "    return newIndex[id]\n",
    "\n",
    "oldIds = list(nodeReIndex.keys())\n",
    "newIds = list(nodeReIndex.values())\n",
    "\n",
    "##################################################\n",
    "# Get old Id based on new Id\n",
    "##################################################\n",
    "def getOldId(newId):\n",
    "    return oldIds[newIds.index(newId)]\n",
    "    "
   ]
  },
  {
   "cell_type": "code",
   "execution_count": 194,
   "metadata": {
    "ExecuteTime": {
     "end_time": "2021-04-30T13:03:46.872661Z",
     "start_time": "2021-04-30T13:03:46.849319Z"
    }
   },
   "outputs": [],
   "source": [
    "# getOldId(875710)\n"
   ]
  },
  {
   "cell_type": "code",
   "execution_count": 195,
   "metadata": {
    "ExecuteTime": {
     "end_time": "2021-04-30T13:03:55.347138Z",
     "start_time": "2021-04-30T13:03:46.874526Z"
    },
    "pycharm": {
     "name": "#%%\n"
    }
   },
   "outputs": [
    {
     "name": "stdout",
     "output_type": "stream",
     "text": [
      "fail to parse data:\n",
      " \n",
      "\n"
     ]
    }
   ],
   "source": [
    "##################################################\n",
    "# Build the \"FROM\" adjacency data\n",
    "##################################################\n",
    "network = {}\n",
    "with open(\"./web-Google.txt\") as infile:\n",
    "    for line in infile:\n",
    "        if line.startswith('#'):\n",
    "            continue\n",
    "\n",
    "        line = line.strip('\\\\s')\n",
    "        try:\n",
    "            webId, linkedTo = line.split()\n",
    "        except:\n",
    "            print(f'fail to parse data:\\n {line}')\n",
    "            continue\n",
    "        webId = convertSingleIdToNewIndex(int(webId), nodeReIndex)\n",
    "        linkedTo = convertSingleIdToNewIndex(int(linkedTo), nodeReIndex)\n",
    "        # allNode.add(webId)\n",
    "        # allNode.add(linkedTo)\n",
    "\n",
    "        if webId not in network:\n",
    "            network[webId] = [linkedTo]\n",
    "        else:\n",
    "            network[webId].append(linkedTo)\n",
    "infile.close()\n"
   ]
  },
  {
   "cell_type": "code",
   "execution_count": 196,
   "metadata": {
    "ExecuteTime": {
     "end_time": "2021-04-30T13:03:55.351516Z",
     "start_time": "2021-04-30T13:03:55.348549Z"
    }
   },
   "outputs": [
    {
     "data": {
      "text/plain": [
       "[1, 2, 3]"
      ]
     },
     "execution_count": 196,
     "metadata": {},
     "output_type": "execute_result"
    }
   ],
   "source": [
    "network[0]\n"
   ]
  },
  {
   "cell_type": "code",
   "execution_count": null,
   "metadata": {
    "pycharm": {
     "name": "#%%\n"
    }
   },
   "outputs": [],
   "source": []
  },
  {
   "cell_type": "code",
   "execution_count": 197,
   "metadata": {
    "ExecuteTime": {
     "end_time": "2021-04-30T13:03:55.359092Z",
     "start_time": "2021-04-30T13:03:55.352852Z"
    }
   },
   "outputs": [
    {
     "name": "stdout",
     "output_type": "stream",
     "text": [
      "len(nodeReIndex): 4\n",
      "sys.getsizeof(networkMatrix)(MB): 0.000152\n"
     ]
    }
   ],
   "source": [
    "# networkMatrix = np.zeros((len(nodeReIndex),len(nodeReIndex)))\n",
    "networkMatrix = np.zeros((1,len(nodeReIndex)))\n",
    "\n",
    "printDetail('len(nodeReIndex)', len(nodeReIndex))\n",
    "printDetail('sys.getsizeof(networkMatrix)(MB)', sys.getsizeof(networkMatrix)/10**6)\n",
    "\n",
    "# sys.getsizeof(networkMatrix)\n"
   ]
  },
  {
   "cell_type": "markdown",
   "metadata": {
    "pycharm": {
     "name": "#%% md\n"
    }
   },
   "source": [
    "#### try convert to full matrix and store in file\n",
    "#### they were too big"
   ]
  },
  {
   "cell_type": "markdown",
   "metadata": {
    "pycharm": {
     "name": "#%% md\n"
    }
   },
   "source": [
    "#### only update index to new index\n",
    "#### SKIP the 0s"
   ]
  },
  {
   "cell_type": "code",
   "execution_count": 198,
   "metadata": {
    "ExecuteTime": {
     "end_time": "2021-04-30T13:03:55.364462Z",
     "start_time": "2021-04-30T13:03:55.360339Z"
    },
    "pycharm": {
     "name": "#%%\n"
    }
   },
   "outputs": [],
   "source": [
    "# d = 0.85\n",
    "d = 1\n",
    "eOverN = 1/len(allNode)\n",
    "\n",
    "\n",
    "def calcRankProcess(calcData):\n",
    "\n",
    "    nodeId = calcData[0]\n",
    "    toNode_coef = calcData[1]\n",
    "    rank = calcData[2]\n",
    "    writeToFile(f'> calcRankProcess: {nodeId}\\n\\t\\t{toNode_coef}', enableDebugLog)\n",
    "    result = calcRank(toNode_coef, rank)\n",
    "    # with runnerCounter.get_lock():\n",
    "    #     runnerCounter.value -= 1\n",
    "\n",
    "    \n",
    "    writeToFile(f'> calcRankProcess: node {nodeId}\\'s new rank : {result}', enableDebugLog)\n",
    "    # print(f'calc rank for node {nodeId} : {result}')\n",
    "    return result\n",
    "\n",
    "\n",
    "\n",
    "def calcRank(linkingCoef, currentRankFull):\n",
    "    return d*calcRankDirectLink(linkingCoef, currentRankFull) + (1-d)*eOverN\n",
    "#     return calcRankDirectLink(linkingCoef, currentRankFull)\n",
    "\n",
    "def calcRankDirectLink(linkingCoef:dict, currentRankFull):\n",
    "    sum = 0\n",
    "\n",
    "    try:\n",
    "        for k, v in linkingCoef.items():\n",
    "            sum += v*currentRankFull[k]\n",
    "    except:\n",
    "        writeToFile(f'ERROR!!!! linking coef = {linkingCoef.items()}', True)\n",
    "    return sum\n"
   ]
  },
  {
   "cell_type": "code",
   "execution_count": 199,
   "metadata": {
    "ExecuteTime": {
     "end_time": "2021-04-30T13:03:57.769510Z",
     "start_time": "2021-04-30T13:03:55.365582Z"
    },
    "pycharm": {
     "name": "#%%\n"
    }
   },
   "outputs": [],
   "source": [
    "network_toNode = dict()\n",
    "\n",
    "##################################################\n",
    "# Build the \"TO\" adjacency data\n",
    "##################################################\n",
    "def build_networkToNode_coef(network_fromNode_updatedIndex: dict()):\n",
    "    result = {}\n",
    "    for id, linkTo in network_fromNode_updatedIndex.items():\n",
    "        coef = 1/len(linkTo)\n",
    "        for toNode in linkTo:\n",
    "            try:\n",
    "                result[toNode][id] = coef\n",
    "            except:\n",
    "                result[toNode] = {id: coef}\n",
    "    return result\n",
    "\n",
    "\n",
    "network_toNode = build_networkToNode_coef(network)\n"
   ]
  },
  {
   "cell_type": "code",
   "execution_count": 200,
   "metadata": {
    "ExecuteTime": {
     "end_time": "2021-04-30T13:03:57.781527Z",
     "start_time": "2021-04-30T13:03:57.771394Z"
    }
   },
   "outputs": [
    {
     "data": {
      "text/plain": [
       "{1: 0.5}"
      ]
     },
     "execution_count": 200,
     "metadata": {},
     "output_type": "execute_result"
    }
   ],
   "source": [
    "network_toNode[0]\n"
   ]
  },
  {
   "cell_type": "code",
   "execution_count": 201,
   "metadata": {
    "ExecuteTime": {
     "end_time": "2021-04-30T13:03:57.788514Z",
     "start_time": "2021-04-30T13:03:57.783418Z"
    },
    "pycharm": {
     "name": "#%%\n"
    }
   },
   "outputs": [],
   "source": [
    "def buildData(currentRank):\n",
    "    for oldId, newId in nodeReIndex.items():\n",
    "        writeToFile(f'\\t> calculating for node {newId}',enableDebugLog)\n",
    "        try:\n",
    "            data.append([newId, network_toNode[newId], currentRank])\n",
    "        except Exception as e:\n",
    "            data.append([newId,{},currentRank])\n",
    "            checkAvailable = newId in network_toNode\n",
    "            writeToFile(f'\\t\\t{e}\\n\\t\\t{newId} in network_toNode : {checkAvailable}', True)\n",
    "def updateData(newRank):\n",
    "    for row in data:\n",
    "        del row[2]\n",
    "        row.append(newRank)\n"
   ]
  },
  {
   "cell_type": "code",
   "execution_count": 202,
   "metadata": {
    "ExecuteTime": {
     "end_time": "2021-04-30T13:04:00.332239Z",
     "start_time": "2021-04-30T13:03:57.790426Z"
    }
   },
   "outputs": [],
   "source": [
    "\n",
    "\n",
    "# data =[]\n",
    "# currentRank = [1/len(allNode)]*len(allNode)\n",
    "# buildData(currentRank)\n"
   ]
  },
  {
   "cell_type": "code",
   "execution_count": 203,
   "metadata": {
    "ExecuteTime": {
     "end_time": "2021-04-30T13:04:00.337186Z",
     "start_time": "2021-04-30T13:04:00.334834Z"
    }
   },
   "outputs": [
    {
     "name": "stdout",
     "output_type": "stream",
     "text": [
      "sys.getsizeof(data)(MB)= 8.8e-05\n"
     ]
    }
   ],
   "source": [
    "print(f'sys.getsizeof(data)(MB)= {sys.getsizeof(data)/10**6}')\n"
   ]
  },
  {
   "cell_type": "code",
   "execution_count": 204,
   "metadata": {
    "ExecuteTime": {
     "end_time": "2021-04-30T13:04:00.345496Z",
     "start_time": "2021-04-30T13:04:00.338633Z"
    }
   },
   "outputs": [],
   "source": [
    "# nodeReIndex[916097]\n"
   ]
  },
  {
   "cell_type": "code",
   "execution_count": 205,
   "metadata": {
    "ExecuteTime": {
     "end_time": "2021-04-30T13:04:00.348359Z",
     "start_time": "2021-04-30T13:04:00.346503Z"
    }
   },
   "outputs": [],
   "source": [
    "resultDir = logDir + '/result'\n",
    "createDirectory(resultDir)\n"
   ]
  },
  {
   "cell_type": "code",
   "execution_count": 206,
   "metadata": {
    "ExecuteTime": {
     "end_time": "2021-04-30T13:04:01.690833Z",
     "start_time": "2021-04-30T13:04:00.349576Z"
    }
   },
   "outputs": [],
   "source": [
    "pool = Pool(100)\n",
    "\n",
    "\n",
    "def calcIterator(iterNo, currentRank, network_toNode):\n",
    "    resultFileName = f'{resultDir}/{iterNo}.log'\n",
    "#     print(resultFileName)\n",
    "    resultFileHandler = createOrAppendFile(resultFileName)\n",
    "    \n",
    "    updateData(currentRank)\n",
    "    \n",
    "    \n",
    "    result = pool.map(calcRankProcess, data)\n",
    "    for nodeRanking in result:\n",
    "        writeToFile(nodeRanking, True, resultFileHandler)\n",
    "    resultFileHandler.close()\n",
    "    return result\n"
   ]
  },
  {
   "cell_type": "code",
   "execution_count": 207,
   "metadata": {
    "ExecuteTime": {
     "end_time": "2021-04-30T13:04:01.697724Z",
     "start_time": "2021-04-30T13:04:01.693170Z"
    }
   },
   "outputs": [
    {
     "data": {
      "text/plain": [
       "1624013821.787253"
      ]
     },
     "execution_count": 207,
     "metadata": {},
     "output_type": "execute_result"
    }
   ],
   "source": [
    "time.time()\n"
   ]
  },
  {
   "cell_type": "code",
   "execution_count": 208,
   "metadata": {
    "ExecuteTime": {
     "end_time": "2021-04-30T13:23:10.584922Z",
     "start_time": "2021-04-30T13:04:01.699317Z"
    },
    "pycharm": {
     "name": "#%%\n"
    },
    "scrolled": false
   },
   "outputs": [
    {
     "name": "stdout",
     "output_type": "stream",
     "text": [
      "finish iter #0 in 0.0010442733764648438\n",
      "current rank:[0.125, 0.20833333333333331, 0.20833333333333331, 0.20833333333333331]\n",
      "finish iter #1 in 0.0008459091186523438\n",
      "current rank:[0.10416666666666666, 0.14583333333333331, 0.14583333333333331, 0.14583333333333331]\n",
      "finish iter #2 in 0.0008411407470703125\n",
      "current rank:[0.07291666666666666, 0.10763888888888887, 0.10763888888888887, 0.10763888888888887]\n",
      "finish iter #3 in 0.0012161731719970703\n",
      "current rank:[0.053819444444444434, 0.07812499999999999, 0.07812499999999999, 0.07812499999999999]\n",
      "finish iter #4 in 0.0006811618804931641\n",
      "current rank:[0.03906249999999999, 0.057002314814814804, 0.057002314814814804, 0.057002314814814804]\n",
      "finish iter #5 in 0.002213001251220703\n",
      "current rank:[0.028501157407407402, 0.041521990740740734, 0.041521990740740734, 0.041521990740740734]\n",
      "finish iter #6 in 0.001154184341430664\n",
      "current rank:[0.020760995370370367, 0.0302613811728395, 0.0302613811728395, 0.0302613811728395]\n",
      "finish iter #7 in 0.000606536865234375\n",
      "current rank:[0.01513069058641975, 0.022051022376543206, 0.022051022376543206, 0.022051022376543206]\n",
      "finish iter #8 in 0.0009369850158691406\n",
      "current rank:[0.011025511188271603, 0.016069074717078184, 0.016069074717078184, 0.016069074717078184]\n",
      "finish iter #9 in 0.0006260871887207031\n",
      "current rank:[0.008034537358539092, 0.011709707754629626, 0.011709707754629626, 0.011709707754629626]\n",
      "finish iter #10 in 0.0010428428649902344\n",
      "current rank:[0.005854853877314813, 0.008533032996827844, 0.008533032996827844, 0.008533032996827844]\n",
      "finish iter #11 in 0.0006909370422363281\n",
      "current rank:[0.004266516498413922, 0.00621813445751886, 0.00621813445751886, 0.00621813445751886]\n",
      "finish iter #12 in 0.001245260238647461\n",
      "current rank:[0.00310906722875943, 0.004531239394897404, 0.004531239394897404, 0.004531239394897404]\n",
      "finish iter #13 in 0.0009653568267822266\n",
      "current rank:[0.002265619697448702, 0.003301975440368512, 0.003301975440368512, 0.003301975440368512]\n",
      "finish iter #14 in 0.0010149478912353516\n",
      "current rank:[0.001650987720184256, 0.00240619428600049, 0.00240619428600049, 0.00240619428600049]\n",
      "finish iter #15 in 0.0007109642028808594\n",
      "current rank:[0.001203097143000245, 0.0017534263830616638, 0.0017534263830616638, 0.0017534263830616638]\n",
      "finish iter #16 in 0.000885009765625\n",
      "current rank:[0.0008767131915308319, 0.0012777455725309136, 0.0012777455725309136, 0.0012777455725309136]\n",
      "finish iter #17 in 0.0013437271118164062\n",
      "current rank:[0.0006388727862654568, 0.000931110516775734, 0.000931110516775734, 0.000931110516775734]\n",
      "finish iter #18 in 0.0017859935760498047\n",
      "current rank:[0.000465555258387867, 0.000678512853809686, 0.000678512853809686, 0.000678512853809686]\n",
      "finish iter #19 in 0.0007326602935791016\n",
      "current rank:[0.000339256426904843, 0.000494441513034132, 0.000494441513034132, 0.000494441513034132]\n",
      "finish iter #20 in 0.0007891654968261719\n",
      "current rank:[0.000247220756517066, 0.00036030623215201367, 0.00036030623215201367, 0.00036030623215201367]\n",
      "finish iter #21 in 0.0007760524749755859\n",
      "current rank:[0.00018015311607600683, 0.00026256003491502883, 0.00026256003491502883, 0.00026256003491502883]\n",
      "finish iter #22 in 0.0009706020355224609\n",
      "current rank:[0.00013128001745751441, 0.0001913310561495167, 0.0001913310561495167, 0.0001913310561495167]\n",
      "finish iter #23 in 0.0010502338409423828\n",
      "current rank:[9.566552807475835e-05, 0.0001394255338939298, 0.0001394255338939298, 0.0001394255338939298]\n",
      "finish iter #24 in 0.0010471343994140625\n",
      "current rank:[6.97127669469649e-05, 0.00010160127630521768, 0.00010160127630521768, 0.00010160127630521768]\n",
      "finish iter #25 in 0.0008175373077392578\n",
      "current rank:[5.080063815260884e-05, 7.403822713493048e-05, 7.403822713493048e-05, 7.403822713493048e-05]\n",
      "finish iter #26 in 0.0012619495391845703\n",
      "current rank:[3.701911356746524e-05, 5.395265961833485e-05, 5.395265961833485e-05, 5.395265961833485e-05]\n",
      "finish iter #27 in 0.0006115436553955078\n",
      "current rank:[2.6976329809167424e-05, 3.931603433165583e-05, 3.931603433165583e-05, 3.931603433165583e-05]\n",
      "finish iter #28 in 0.0006804466247558594\n",
      "current rank:[1.9658017165827916e-05, 2.8650127102217055e-05, 2.8650127102217055e-05, 2.8650127102217055e-05]\n",
      "finish iter #29 in 0.0009512901306152344\n",
      "current rank:[1.4325063551108528e-05, 2.0877735939717834e-05, 2.0877735939717834e-05, 2.0877735939717834e-05]\n",
      "finish iter #30 in 0.0010466575622558594\n",
      "current rank:[1.0438867969858917e-05, 1.5213889153561759e-05, 1.5213889153561759e-05, 1.5213889153561759e-05]\n",
      "finish iter #31 in 0.0005846023559570312\n",
      "current rank:[7.6069445767808796e-06, 1.1086567233400518e-05, 1.1086567233400518e-05, 1.1086567233400518e-05]\n",
      "finish iter #32 in 0.0007386207580566406\n",
      "current rank:[5.543283616700259e-06, 8.078931808960552e-06, 8.078931808960552e-06, 8.078931808960552e-06]\n",
      "finish iter #33 in 0.0014050006866455078\n",
      "current rank:[4.039465904480276e-06, 5.887227110047029e-06, 5.887227110047029e-06, 5.887227110047029e-06]\n",
      "finish iter #34 in 0.0008847713470458984\n",
      "current rank:[2.9436135550235147e-06, 4.290102189850274e-06, 4.290102189850274e-06, 4.290102189850274e-06]\n",
      "finish iter #35 in 0.0012292861938476562\n",
      "current rank:[2.145051094925137e-06, 3.1262556132663083e-06, 3.1262556132663083e-06, 3.1262556132663083e-06]\n",
      "finish iter #36 in 0.0008234977722167969\n",
      "current rank:[1.5631278066331541e-06, 2.2781448382748665e-06, 2.2781448382748665e-06, 2.2781448382748665e-06]\n",
      "finish iter #37 in 0.0008733272552490234\n",
      "current rank:[1.1390724191374332e-06, 1.6601150213484846e-06, 1.6601150213484846e-06, 1.6601150213484846e-06]\n",
      "finish iter #38 in 0.0017275810241699219\n",
      "current rank:[8.300575106742423e-07, 1.2097483170533867e-06, 1.2097483170533867e-06, 1.2097483170533867e-06]\n",
      "finish iter #39 in 0.0008347034454345703\n",
      "current rank:[6.048741585266933e-07, 8.815599954181074e-07, 8.815599954181074e-07, 8.815599954181074e-07]\n",
      "finish iter #40 in 0.0006732940673828125\n",
      "current rank:[4.407799977090537e-07, 6.424047172179515e-07, 6.424047172179515e-07, 6.424047172179515e-07]\n",
      "finish iter #41 in 0.0015075206756591797\n",
      "current rank:[3.2120235860897574e-07, 4.681290245119936e-07, 4.681290245119936e-07, 4.681290245119936e-07]\n",
      "finish iter #42 in 0.0022439956665039062\n",
      "current rank:[2.340645122559968e-07, 3.411319651256554e-07, 3.411319651256554e-07, 3.411319651256554e-07]\n",
      "finish iter #43 in 0.0011928081512451172\n",
      "current rank:[1.705659825628277e-07, 2.4858748664815995e-07, 2.4858748664815995e-07, 2.4858748664815995e-07]\n",
      "finish iter #44 in 0.0017969608306884766\n",
      "current rank:[1.2429374332407998e-07, 1.8114907084502253e-07, 1.8114907084502253e-07, 1.8114907084502253e-07]\n",
      "finish iter #45 in 0.001211404800415039\n",
      "current rank:[9.057453542251127e-08, 1.320057831972046e-07, 1.320057831972046e-07, 1.320057831972046e-07]\n",
      "finish iter #46 in 0.0010118484497070312\n",
      "current rank:[6.60028915986023e-08, 9.619440340610606e-08, 9.619440340610606e-08, 9.619440340610606e-08]\n",
      "finish iter #47 in 0.0017843246459960938\n",
      "current rank:[4.809720170305303e-08, 7.00981655692538e-08, 7.00981655692538e-08, 7.00981655692538e-08]\n",
      "finish iter #48 in 0.0010998249053955078\n",
      "current rank:[3.50490827846269e-08, 5.108148335231124e-08, 5.108148335231124e-08, 5.108148335231124e-08]\n",
      "finish iter #49 in 0.0014443397521972656\n",
      "current rank:[2.554074167615562e-08, 3.722376927103125e-08, 3.722376927103125e-08, 3.722376927103125e-08]\n",
      "CPU times: user 55.8 ms, sys: 14.5 ms, total: 70.3 ms\n",
      "Wall time: 58.9 ms\n"
     ]
    }
   ],
   "source": [
    "%%time\n",
    "\n",
    "# N = 50\n",
    "N = 50\n",
    "\n",
    "\n",
    "data =[]\n",
    "currentRank = [1/len(allNode)]*len(allNode)\n",
    "buildData(currentRank)\n",
    "\n",
    "startingTime = None\n",
    "for iterNo in range(N):\n",
    "    startingTime = time.time()\n",
    "    currentRank = calcIterator(iterNo, currentRank, network_toNode)\n",
    "    print(f'finish iter #{iterNo} in {time.time() - startingTime}\\ncurrent rank:{currentRank}\\n')\n"
   ]
  },
  {
   "cell_type": "code",
   "execution_count": 209,
   "metadata": {
    "ExecuteTime": {
     "end_time": "2021-04-30T13:23:10.589743Z",
     "start_time": "2021-04-30T13:23:10.586294Z"
    }
   },
   "outputs": [
    {
     "data": {
      "text/plain": [
       "[2.554074167615562e-08,\n",
       " 3.722376927103125e-08,\n",
       " 3.722376927103125e-08,\n",
       " 3.722376927103125e-08]"
      ]
     },
     "execution_count": 209,
     "metadata": {},
     "output_type": "execute_result"
    }
   ],
   "source": [
    "currentRank\n"
   ]
  },
  {
   "cell_type": "code",
   "execution_count": 210,
   "metadata": {
    "ExecuteTime": {
     "end_time": "2021-04-30T13:23:10.596765Z",
     "start_time": "2021-04-30T13:23:10.591120Z"
    }
   },
   "outputs": [],
   "source": [
    "finalResult = currentRank\n"
   ]
  },
  {
   "cell_type": "code",
   "execution_count": 211,
   "metadata": {
    "ExecuteTime": {
     "end_time": "2021-04-30T13:29:39.287627Z",
     "start_time": "2021-04-30T13:29:39.007627Z"
    }
   },
   "outputs": [],
   "source": [
    "top10rank = list(sorted(finalResult, reverse=True)[:10])\n"
   ]
  },
  {
   "cell_type": "code",
   "execution_count": 212,
   "metadata": {
    "ExecuteTime": {
     "end_time": "2021-04-30T13:33:58.327364Z",
     "start_time": "2021-04-30T13:33:58.313056Z"
    }
   },
   "outputs": [
    {
     "data": {
      "text/plain": [
       "[3.722376927103125e-08,\n",
       " 3.722376927103125e-08,\n",
       " 3.722376927103125e-08,\n",
       " 2.554074167615562e-08]"
      ]
     },
     "execution_count": 212,
     "metadata": {},
     "output_type": "execute_result"
    }
   ],
   "source": [
    "top10rank\n"
   ]
  },
  {
   "cell_type": "code",
   "execution_count": 213,
   "metadata": {
    "ExecuteTime": {
     "end_time": "2021-04-30T13:33:09.965331Z",
     "start_time": "2021-04-30T13:33:09.961567Z"
    }
   },
   "outputs": [
    {
     "data": {
      "text/plain": [
       "0"
      ]
     },
     "execution_count": 213,
     "metadata": {},
     "output_type": "execute_result"
    }
   ],
   "source": [
    "top10rank.count(0.14303660180461966)\n"
   ]
  },
  {
   "cell_type": "code",
   "execution_count": 214,
   "metadata": {
    "ExecuteTime": {
     "end_time": "2021-04-30T13:33:54.030433Z",
     "start_time": "2021-04-30T13:33:54.026857Z"
    }
   },
   "outputs": [],
   "source": [
    "for rank in top10rank:\n",
    "    if top10rank.count(rank) > 1:\n",
    "        top10rank.remove(rank)\n"
   ]
  },
  {
   "cell_type": "code",
   "execution_count": 215,
   "metadata": {
    "ExecuteTime": {
     "end_time": "2021-04-30T13:23:10.901509Z",
     "start_time": "2021-04-30T13:23:10.897848Z"
    }
   },
   "outputs": [],
   "source": [
    "##################################################\n",
    "# Get node Id by comparing top ranking and current ranking\n",
    "# if multiple nodes has same ranking, return all of them\n",
    "##################################################\n",
    "def getNodeIdByRank(rank, fullRank=currentRank):\n",
    "    return [i for i, x in enumerate(fullRank) if x == rank]\n"
   ]
  },
  {
   "cell_type": "code",
   "execution_count": 216,
   "metadata": {
    "ExecuteTime": {
     "end_time": "2021-04-30T13:34:26.728875Z",
     "start_time": "2021-04-30T13:34:26.283800Z"
    }
   },
   "outputs": [
    {
     "data": {
      "text/plain": [
       "[1, 2, 3, 0]"
      ]
     },
     "execution_count": 216,
     "metadata": {},
     "output_type": "execute_result"
    }
   ],
   "source": [
    "top10 = []\n",
    "for x in top10rank:\n",
    "    for y in getNodeIdByRank(x):\n",
    "        top10.append(getOldId(y))\n",
    "top10\n"
   ]
  },
  {
   "cell_type": "code",
   "execution_count": null,
   "metadata": {},
   "outputs": [],
   "source": []
  },
  {
   "cell_type": "code",
   "execution_count": null,
   "metadata": {},
   "outputs": [],
   "source": []
  },
  {
   "cell_type": "code",
   "execution_count": 217,
   "metadata": {
    "ExecuteTime": {
     "end_time": "2021-04-30T15:03:01.028584Z",
     "start_time": "2021-04-30T15:03:01.003594Z"
    }
   },
   "outputs": [
    {
     "data": {
      "text/plain": [
       "[0, 2, 1, 3]"
      ]
     },
     "execution_count": 217,
     "metadata": {},
     "output_type": "execute_result"
    }
   ],
   "source": [
    "testlist = [0,1,2,1,3]\n",
    "for rank in testlist:\n",
    "    if testlist.count(rank) > 1:\n",
    "        testlist.remove(rank)\n",
    "testlist"
   ]
  },
  {
   "cell_type": "code",
   "execution_count": null,
   "metadata": {},
   "outputs": [],
   "source": []
  }
 ],
 "metadata": {
  "hide_input": false,
  "kernelspec": {
   "display_name": "Python 3",
   "language": "python",
   "name": "python3"
  },
  "language_info": {
   "codemirror_mode": {
    "name": "ipython",
    "version": 3
   },
   "file_extension": ".py",
   "mimetype": "text/x-python",
   "name": "python",
   "nbconvert_exporter": "python",
   "pygments_lexer": "ipython3",
   "version": "3.8.10"
  }
 },
 "nbformat": 4,
 "nbformat_minor": 2
}
